{
 "cells": [
  {
   "cell_type": "code",
   "execution_count": 1,
   "metadata": {},
   "outputs": [],
   "source": [
    "import pandas as pd\n",
    "import math\n",
    "\n",
    "from sklearn import svm\n",
    "# from sklearn.linear_model import LogisticRegression"
   ]
  },
  {
   "cell_type": "code",
   "execution_count": 2,
   "metadata": {},
   "outputs": [],
   "source": [
    "# Fungsi untuk menyesuaikan kolom \n",
    "# pada DataFrame LETOR\n",
    "# 0 -> Query id\n",
    "# 1 -> Document id\n",
    "# 2-47 -> Features\n",
    "# 48 -> ranking\n",
    "# 49 -> label\n",
    "def adjustLETOR(df):\n",
    "    df[96] = df[0]\n",
    "    df[0] = df[2]\n",
    "    df[2] = df[97]\n",
    "    drop_cols = list(range(1, 96, 2))\n",
    "    drop_cols.extend(range(97, 104))\n",
    "    df_adjusted = df.drop(drop_cols, 1)\n",
    "    df_adjusted.columns = list(range(0, 49))\n",
    "    df_adjusted[49] = df_adjusted[48] > 0\n",
    "    df_adjusted.infer_objects()\n",
    "    df_adjusted[49] = df_adjusted[49].apply(int)\n",
    "    \n",
    "    return df_adjusted"
   ]
  },
  {
   "cell_type": "code",
   "execution_count": 3,
   "metadata": {},
   "outputs": [],
   "source": [
    "# Fungsi untuk menghitung nilai NDCG\n",
    "# df_pred harus meliputi query_id, document_id, score\n",
    "def NDCG(df_pred):\n",
    "    final = df_pred.sort_values([0, 51], ascending=[False, False])\n",
    "    \n",
    "    query_id = final[0][0]\n",
    "    user_rel = []\n",
    "    \n",
    "    ndcg = 0\n",
    "    query_count = 0\n",
    "    for j in range(final.shape[0]):\n",
    "        if query_id != final[0][j]:\n",
    "            # hitung nilai NDCG\n",
    "            dcg = 0\n",
    "            for k in range(min(10,len(user_rel))):\n",
    "                dcg += user_rel[k]/(math.log(k+2))\n",
    "                \n",
    "            ideal_rel = sorted(user_rel,reverse=True)\n",
    "            idcg = 0\n",
    "            \n",
    "            for k in range(min(10,len(user_rel))):\n",
    "                idcg += (ideal_rel[k])/(math.log(k+2))                \n",
    "            \n",
    "            if idcg:\n",
    "                ndcg += (dcg/idcg)\n",
    "            \n",
    "            query_id = final[0][j]\n",
    "            user_rel = [final[48][j]]\n",
    "            query_count += 1\n",
    "        else:\n",
    "            if len(user_rel)<10:\n",
    "                user_rel.append(final[48][j])\n",
    "    \n",
    "    return ndcg/query_count"
   ]
  },
  {
   "cell_type": "code",
   "execution_count": 4,
   "metadata": {},
   "outputs": [],
   "source": [
    "# Fungsi untuk melakukan learning to rank\n",
    "def learn_to_rank(Folder):\n",
    "    \n",
    "    df_raw_train = pd.read_csv(Folder + \"train.txt\", \" |:\", \n",
    "                               header=None, engine='python')\n",
    "    train_df = adjustLETOR(df_raw_train)\n",
    "    \n",
    "    df_raw_val = pd.read_csv(Folder + \"vali.txt\", \" |:\", \n",
    "                             header=None, engine='python')\n",
    "    val_df = adjustLETOR(df_raw_val)\n",
    "    \n",
    "    df_raw_test = pd.read_csv(Folder + \"test.txt\", \" |:\", \n",
    "                              header=None, engine='python')\n",
    "    test_df = adjustLETOR(df_raw_test)\n",
    "    \n",
    "    X_train = train_df.iloc[:,2:48]\n",
    "    Y_train = train_df.iloc[:,49]\n",
    "    \n",
    "    X_val = val_df.iloc[:,2:48]\n",
    "    \n",
    "    X_test = test_df.iloc[:,2:48]\n",
    "    \n",
    "    results = []\n",
    "    \n",
    "    C = [1e-5,1e-4,1e-3,1e-2,1e-1,1e0,1e1]\n",
    "    \n",
    "    for hyp in C:\n",
    "        logreg_class = svm.SVC(probability=True, kernel='linear')\n",
    "#         logreg_class = LogisticRegression(C=hyp, \n",
    "#                                           max_iter = 500,\n",
    "#                                           class_weight = 'balanced',\n",
    "#                                           solver='lbfgs')\n",
    "        \n",
    "        # Bangun model klasifikasi\n",
    "        logreg_class.fit(X_train, Y_train)\n",
    "        predictions = logreg_class.predict_proba(X_val)\n",
    "        val_df[51] = predictions[:,1]\n",
    "        \n",
    "        val_ndgc = NDCG(val_df)\n",
    "        results.append(val_ndgc)\n",
    "    \n",
    "    best_hyp = results.index(max(results))\n",
    "    logreg_class = svm.SVC(probability=True, kernel='linear')\n",
    "#     logreg_class = LogisticRegression(C = C[best_hyp],\n",
    "#                                       max_iter = 500,\n",
    "#                                       class_weight = 'balanced',\n",
    "#                                       solver='lbfgs')\n",
    "    \n",
    "    logreg_class.fit(X_train, Y_train)\n",
    "    predictions = logreg_class.predict_proba(X_test)\n",
    "    test_df[51] = predictions[:,1]\n",
    "    test_ndgc = NDCG(test_df)\n",
    "    \n",
    "    return test_ndgc"
   ]
  },
  {
   "cell_type": "code",
   "execution_count": 5,
   "metadata": {},
   "outputs": [
    {
     "name": "stdout",
     "output_type": "stream",
     "text": [
      "NDGC for fold 1 :  0.37\n",
      "NDGC for fold 2 :  0.39\n",
      "NDGC for fold 3 :  0.37\n",
      "NDGC for fold 4 :  0.44\n",
      "NDGC for fold 5 :  0.42\n",
      "0.4\n"
     ]
    }
   ],
   "source": [
    "list_ndcg = []\n",
    "for idx in range(1,6):\n",
    "    directory = \"MQ2008/Fold\"+str(idx)+\"/\"\n",
    "    dir_ndgc = learn_to_rank(directory)\n",
    "    list_ndcg.append(dir_ndgc)\n",
    "    print(\"NDGC for fold \" + str(idx) + \" : \", round(dir_ndgc, 2))\n",
    "    \n",
    "print(round(sum(list_ndcg) / len(list_ndcg), 2))"
   ]
  },
  {
   "cell_type": "code",
   "execution_count": null,
   "metadata": {},
   "outputs": [],
   "source": []
  }
 ],
 "metadata": {
  "kernelspec": {
   "display_name": "Python 3",
   "language": "python",
   "name": "python3"
  },
  "language_info": {
   "codemirror_mode": {
    "name": "ipython",
    "version": 3
   },
   "file_extension": ".py",
   "mimetype": "text/x-python",
   "name": "python",
   "nbconvert_exporter": "python",
   "pygments_lexer": "ipython3",
   "version": "3.6.5"
  }
 },
 "nbformat": 4,
 "nbformat_minor": 4
}
